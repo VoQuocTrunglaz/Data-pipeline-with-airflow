{
 "cells": [
  {
   "cell_type": "code",
   "execution_count": 11,
   "metadata": {},
   "outputs": [],
   "source": [
    "import requests"
   ]
  },
  {
   "cell_type": "code",
   "execution_count": 12,
   "metadata": {},
   "outputs": [],
   "source": [
    "url = \"http://localhost:9931\""
   ]
  },
  {
   "cell_type": "markdown",
   "metadata": {},
   "source": []
  },
  {
   "cell_type": "code",
   "execution_count": 13,
   "metadata": {},
   "outputs": [],
   "source": [
    "response = requests.post(f\"{url}/search\", json = {\"query\": \"Hội nghị cấp khoa?\"})"
   ]
  },
  {
   "cell_type": "code",
   "execution_count": 14,
   "metadata": {},
   "outputs": [
    {
     "data": {
      "text/plain": [
       "<Response [200]>"
      ]
     },
     "execution_count": 14,
     "metadata": {},
     "output_type": "execute_result"
    }
   ],
   "source": [
    "response"
   ]
  },
  {
   "cell_type": "code",
   "execution_count": 15,
   "metadata": {},
   "outputs": [
    {
     "data": {
      "text/plain": [
       "{'query': 'Hội nghị cấp khoa?',\n",
       " 'result': {'id': '98412fe2-65a1-49b7-a700-917629935d65',\n",
       "  'payload': {'content': 'Bộ môn Hệ thống thông tin đã tổ chức Seminar học thuật về chủ đề Bảo mật cơ sở dữ liệu do Thầy Võ Ngọc Tấn Phước báo cáo vào ngày 19 tháng 01 năm 2024. Đề tài đưa ra một giải pháp an toàn cho cơ sở dữ liệu dựa trên nền tảng mật mã gồm đặt ra vấn đề của bài toán, xây dựng framework hỗ trợ xử lý trên cơ sở dữ liệu, và kết quả thực nghiệm. Giải pháp phân hoạch và xử lý trên cơ sở dữ liệu mã được làm rõ, bao hàm việc tách cơ sở dữ liệu thành 2 phần gồm cơ sở dữ liệu để xử lý truy cập và kho dữ liệu mã hóa, cũng như vấn đề xử lý trên cơ sở dữ liệu mã hóa. Từ đó đặt ra vấn đề cần phát triển một framework chuyên xử lý cho cơ sở dữ liệu mã.\\n\\nTrong phần thảo luận, giảng viên bộ môn đã đặt ra nhiều câu hỏi và trao đổi về một số nan đề liên quan đến giải pháp xử lý dữ liệu mã, làm thế nào để đảm bảo tính toàn vẹn, hiệu suất xử lý đáp ứng các truy vấn khác nhau trên cơ sở dữ liệu mã. Từ đó, seminar đã thảo luận thêm nhằm tìm ra vấn đề và giải pháp, ưu và nhược điểm của giải pháp.\\nBuổi Seminar đã tạo điều kiện tốt nhằm trao đổi học thuật về lĩnh vực an toàn thông tin, đồng thời khuyến khích các hoạt động nghiên cứu mang tính phối hợp giữa các thành viên trong Bộ môn./.\\nBộ môn hệ thống thông tin\\n',\n",
       "   'date': '02-02-2024',\n",
       "   'href': 'news.html@detail@102@3231@Seminar-hoc-thuat-de-tai-Bao-mat-co-so-du-lieu',\n",
       "   'status': 'new',\n",
       "   'title': 'Seminar học thuật đề tài Bảo mật cơ sở dữ liệu'},\n",
       "  'score': 0.018695649,\n",
       "  'shard_key': None,\n",
       "  'vector': None,\n",
       "  'version': 0},\n",
       " 'status': 'success'}"
      ]
     },
     "execution_count": 15,
     "metadata": {},
     "output_type": "execute_result"
    }
   ],
   "source": [
    "response.json()"
   ]
  }
 ],
 "metadata": {
  "kernelspec": {
   "display_name": "Python 3",
   "language": "python",
   "name": "python3"
  },
  "language_info": {
   "codemirror_mode": {
    "name": "ipython",
    "version": 3
   },
   "file_extension": ".py",
   "mimetype": "text/x-python",
   "name": "python",
   "nbconvert_exporter": "python",
   "pygments_lexer": "ipython3",
   "version": "3.12.3"
  }
 },
 "nbformat": 4,
 "nbformat_minor": 2
}
